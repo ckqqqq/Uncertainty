{
 "cells": [
  {
   "cell_type": "code",
   "execution_count": 25,
   "metadata": {},
   "outputs": [
    {
     "data": {
      "text/plain": [
       "['model_qwen2.5-7_outer_model_qwen2.5-32_task_emobench-ea-en_实验一.json',\n",
       " 'model_qwen2.5-14_outer_model_qwen2.5-7_task_emobench-ea-en_实验一.json',\n",
       " 'model_qwen2.5-3_outer_model_qwen2.5-7_task_emobench-ea-en_实验一.json',\n",
       " 'model_qwen2.5-14_outer_model_qwen2.5-32_task_emobench-ea-en_实验一.json',\n",
       " 'model_qwen2.5-14_outer_model_qwen2.5-3_task_emobench-ea-en_实验一.json',\n",
       " 'model_qwen2.5-7_outer_model_qwen2.5-3_task_emobench-ea-en_实验一.json',\n",
       " 'model_qwen2.5-32_outer_model_qwen2.5-14_task_emobench-ea-en_实验一.json',\n",
       " 'model_qwen2.5-1.5_outer_model_qwen2.5-14_task_emobench-ea-en_实验一.json',\n",
       " 'model_qwen2.5-7_outer_model_qwen2.5-14_task_emobench-ea-en_实验一.json',\n",
       " 'model_qwen2.5-3_outer_model_qwen2.5-32_task_emobench-ea-en_实验一.json',\n",
       " 'model_qwen2.5-14_outer_model_qwen2.5-1.5_task_emobench-ea-en_实验一.json',\n",
       " 'model_qwen2.5-32_outer_model_qwen2.5-3_task_emobench-ea-en_实验一.json',\n",
       " 'model_qwen2.5-3_outer_model_qwen2.5-14_task_emobench-ea-en_实验一.json']"
      ]
     },
     "execution_count": 25,
     "metadata": {},
     "output_type": "execute_result"
    }
   ],
   "source": [
    "path=\"/home/ckqsudo/code2024/CKQ_ACL2024/Uncertainty/src/result\"\n",
    "import os\n",
    "files=[i for i in os.listdir(path) if \"实验一.json\" in i]\n",
    "files\n"
   ]
  },
  {
   "cell_type": "code",
   "execution_count": 26,
   "metadata": {},
   "outputs": [],
   "source": [
    "import json\n",
    "def read_file(file_path):\n",
    "    with open(file_path, \"r\", encoding=\"utf-8\") as f:\n",
    "        res=json.load(f)\n",
    "        return res"
   ]
  },
  {
   "cell_type": "code",
   "execution_count": 27,
   "metadata": {},
   "outputs": [
    {
     "name": "stdout",
     "output_type": "stream",
     "text": [
      "a\n"
     ]
    }
   ],
   "source": [
    "print(chr(ord(\"a\")))"
   ]
  },
  {
   "cell_type": "markdown",
   "metadata": {},
   "source": [
    "{\n",
    "        \"response_text\": \"d\",\n",
    "        \"max_prob\": 0.6440296173095703,\n",
    "        \"max_prob_label\": \"d\",\n",
    "        \"choices_probs\": {\n",
    "            \"a\": 0.0025048956740647554,\n",
    "            \"b\": 0.16188238561153412,\n",
    "            \"c\": 0.1858161985874176,\n",
    "            \"d\": 0.6440296173095703\n",
    "        },\n",
    "        \"self_eval_certainty\": \"  1 \",\n",
    "        \"outer_eval_certainty\": \"  6 \",\n",
    "        \"scores\": [\n",
    "            \"0.0\",\n",
    "            \"1.0\",\n",
    "            \"0.0\",\n",
    "            \"0.0\"\n",
    "        ],\n",
    "        \"id\": 78\n",
    "    },"
   ]
  },
  {
   "cell_type": "code",
   "execution_count": 16,
   "metadata": {},
   "outputs": [
    {
     "data": {
      "text/plain": [
       "'Aaaa 0'"
      ]
     },
     "execution_count": 16,
     "metadata": {},
     "output_type": "execute_result"
    }
   ],
   "source": [
    "\"Aaaa 0\".strip()"
   ]
  },
  {
   "cell_type": "code",
   "execution_count": 29,
   "metadata": {},
   "outputs": [
    {
     "name": "stdout",
     "output_type": "stream",
     "text": [
      "model_qwen2.5-7_outer_model_qwen2.5-32_task_emobench-ea-en_实验一.json\n",
      "100\n",
      "平均分 0.675 正确个数 93 错误个数 7\n",
      "自评言语置信度 4.95 自评言语正确置信度 4.89247311827957 自评言语错误置信度 5.714285714285714\n",
      "外评言语置信度 4.79 外评言语正确置信度 4.806451612903226 外评言语错误置信度 4.571428571428571\n",
      "model_qwen2.5-14_outer_model_qwen2.5-7_task_emobench-ea-en_实验一.json\n",
      "100\n",
      "平均分 0.665625 正确个数 91 错误个数 9\n",
      "自评言语置信度 5.23 自评言语正确置信度 5.230769230769231 自评言语错误置信度 5.222222222222222\n",
      "外评言语置信度 4.82 外评言语正确置信度 4.835164835164835 外评言语错误置信度 4.666666666666667\n",
      "model_qwen2.5-3_outer_model_qwen2.5-7_task_emobench-ea-en_实验一.json\n",
      "100\n",
      "平均分 0.585625 正确个数 81 错误个数 19\n",
      "自评言语置信度 5.0 自评言语正确置信度 4.987654320987654 自评言语错误置信度 5.052631578947368\n",
      "外评言语置信度 4.61 外评言语正确置信度 4.777777777777778 外评言语错误置信度 3.8947368421052633\n",
      "model_qwen2.5-14_outer_model_qwen2.5-32_task_emobench-ea-en_实验一.json\n",
      "100\n",
      "平均分 0.665625 正确个数 91 错误个数 9\n",
      "自评言语置信度 5.23 自评言语正确置信度 5.230769230769231 自评言语错误置信度 5.222222222222222\n",
      "外评言语置信度 4.7 外评言语正确置信度 4.747252747252747 外评言语错误置信度 4.222222222222222\n",
      "model_qwen2.5-14_outer_model_qwen2.5-3_task_emobench-ea-en_实验一.json\n",
      "100\n",
      "平均分 0.665625 正确个数 91 错误个数 9\n",
      "自评言语置信度 5.23 自评言语正确置信度 5.230769230769231 自评言语错误置信度 5.222222222222222\n",
      "外评言语置信度 4.97 外评言语正确置信度 4.8901098901098905 外评言语错误置信度 5.777777777777778\n",
      "model_qwen2.5-7_outer_model_qwen2.5-3_task_emobench-ea-en_实验一.json\n",
      "100\n",
      "平均分 0.675 正确个数 93 错误个数 7\n",
      "自评言语置信度 4.95 自评言语正确置信度 4.89247311827957 自评言语错误置信度 5.714285714285714\n",
      "外评言语置信度 4.91 外评言语正确置信度 4.849462365591398 外评言语错误置信度 5.714285714285714\n",
      "model_qwen2.5-32_outer_model_qwen2.5-14_task_emobench-ea-en_实验一.json\n",
      "29\n",
      "平均分 0.7349137931034483 正确个数 29 错误个数 0\n",
      "model_qwen2.5-1.5_outer_model_qwen2.5-14_task_emobench-ea-en_实验一.json\n",
      "100\n",
      "平均分 0.513125 正确个数 75 错误个数 25\n",
      "自评言语置信度 1.0 自评言语正确置信度 1.0 自评言语错误置信度 1.0\n",
      "外评言语置信度 5.07 外评言语正确置信度 5.266666666666667 外评言语错误置信度 4.48\n",
      "model_qwen2.5-7_outer_model_qwen2.5-14_task_emobench-ea-en_实验一.json\n",
      "100\n",
      "平均分 0.675 正确个数 93 错误个数 7\n",
      "自评言语置信度 4.95 自评言语正确置信度 4.89247311827957 自评言语错误置信度 5.714285714285714\n",
      "外评言语置信度 5.29 外评言语正确置信度 5.258064516129032 外评言语错误置信度 5.714285714285714\n",
      "model_qwen2.5-3_outer_model_qwen2.5-32_task_emobench-ea-en_实验一.json\n",
      "100\n",
      "平均分 0.585625 正确个数 81 错误个数 19\n",
      "自评言语置信度 5.0 自评言语正确置信度 4.987654320987654 自评言语错误置信度 5.052631578947368\n",
      "外评言语置信度 4.61 外评言语正确置信度 4.765432098765432 外评言语错误置信度 3.9473684210526314\n",
      "model_qwen2.5-14_outer_model_qwen2.5-1.5_task_emobench-ea-en_实验一.json\n",
      "100\n",
      "平均分 0.665625 正确个数 91 错误个数 9\n",
      "自评言语置信度 5.23 自评言语正确置信度 5.230769230769231 自评言语错误置信度 5.222222222222222\n",
      "外评言语置信度 1.0 外评言语正确置信度 1.0 外评言语错误置信度 1.0\n",
      "model_qwen2.5-32_outer_model_qwen2.5-3_task_emobench-ea-en_实验一.json\n",
      "100\n",
      "平均分 0.685 正确个数 93 错误个数 7\n",
      "自评言语置信度 4.84 自评言语正确置信度 4.838709677419355 自评言语错误置信度 4.857142857142857\n",
      "外评言语置信度 4.7 外评言语正确置信度 4.731182795698925 外评言语错误置信度 4.285714285714286\n",
      "model_qwen2.5-3_outer_model_qwen2.5-14_task_emobench-ea-en_实验一.json\n",
      "100\n",
      "平均分 0.585625 正确个数 81 错误个数 19\n",
      "自评言语置信度 5.0 自评言语正确置信度 4.987654320987654 自评言语错误置信度 5.052631578947368\n",
      "外评言语置信度 5.17 外评言语正确置信度 5.2592592592592595 外评言语错误置信度 4.7894736842105265\n"
     ]
    }
   ],
   "source": [
    "\n",
    "from sympy import true\n",
    "\n",
    "\n",
    "counter=0.0\n",
    "for f in files[:]:\n",
    "    print(f)\n",
    "    dt=read_file(path+\"/\"+f)\n",
    "    print(len(dt))\n",
    "    score_counter=0.0\n",
    "    right_counter=0\n",
    "    wrong_counter=0\n",
    "    self_eval_certainty=[0.0,0.0,0.0]\n",
    "    outer_eval_certainty=[0.0,0.0,0.0]\n",
    "    for item in dt:\n",
    "        label=item[\"max_prob_label\"]\n",
    "        score=float(item[\"scores\"][ord(label)-ord(\"a\")])\n",
    "        s_certainty=float(item[\"self_eval_certainty\"].strip())\n",
    "        o_certainty=float(item[\"outer_eval_certainty\"].strip())\n",
    "        score_counter+=score\n",
    "        self_eval_certainty[0]+=s_certainty\n",
    "        outer_eval_certainty[0]+=o_certainty\n",
    "        if score>0.0:\n",
    "            right_counter+=1\n",
    "            self_eval_certainty[1]+=s_certainty\n",
    "            outer_eval_certainty[1]+=o_certainty\n",
    "        else:\n",
    "            wrong_counter+=1\n",
    "            self_eval_certainty[2]+=s_certainty\n",
    "            outer_eval_certainty[2]+=o_certainty\n",
    "    \n",
    "    \n",
    "    print(\"平均分\",score_counter/len(dt),\"正确个数\",right_counter,\"错误个数\",wrong_counter)\n",
    "    if right_counter==0 or wrong_counter==0:\n",
    "        continue\n",
    "    print(\"自评言语置信度\",self_eval_certainty[0]/len(dt),\"自评言语正确置信度\",self_eval_certainty[1]/right_counter,\"自评言语错误置信度\",self_eval_certainty[2]/wrong_counter)\n",
    "    print(\"外评言语置信度\",outer_eval_certainty[0]/len(dt),\"外评言语正确置信度\",outer_eval_certainty[1]/right_counter,\"外评言语错误置信度\",outer_eval_certainty[2]/wrong_counter)\n",
    "    "
   ]
  }
 ],
 "metadata": {
  "kernelspec": {
   "display_name": "py11",
   "language": "python",
   "name": "python3"
  },
  "language_info": {
   "codemirror_mode": {
    "name": "ipython",
    "version": 3
   },
   "file_extension": ".py",
   "mimetype": "text/x-python",
   "name": "python",
   "nbconvert_exporter": "python",
   "pygments_lexer": "ipython3",
   "version": "3.11.9"
  }
 },
 "nbformat": 4,
 "nbformat_minor": 2
}
